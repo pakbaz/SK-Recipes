{
 "cells": [
  {
   "attachments": {},
   "cell_type": "markdown",
   "metadata": {},
   "source": [
    "\n",
    "---\n",
    "\n",
    "### Reminder: This 📘 `.NET Interactive` notebook needs to be run from VS Code with [these prerequisites](../PREREQS.md)."
   ]
  },
  {
   "attachments": {},
   "cell_type": "markdown",
   "metadata": {},
   "source": [
    "#### How to use this notebook: \n",
    "\n",
    "* Just read the text and scroll along until you run into code blocks.\n",
    "* Code blocks have computer code inside them — hover over the block and you can run the code.\n",
    "* Run the code by hitting the ▶️ \"play\" button to the left. If the code runs you'll see a ✔️. If not, you'll get a ❌.\n",
    "* The output and status of the code block will appear just below itself — you need to scroll down further to see it.\n",
    "* Sometimes a code block will ask you for input in a hard-to-notice dialog box 👆 at the top of your notebook window. \n",
    "\n",
    "---"
   ]
  },
  {
   "attachments": {},
   "cell_type": "markdown",
   "metadata": {},
   "source": [
    "# Recipe IX: 🔥 Native and Semantic Skills\n",
    "\n",
    "\n",
    "## Step 1. Instantiate a 🔥 kernel"
   ]
  },
  {
   "cell_type": "code",
   "execution_count": 4,
   "metadata": {
    "dotnet_interactive": {
     "language": "csharp"
    },
    "polyglot_notebook": {
     "kernelName": "csharp"
    }
   },
   "outputs": [
    {
     "data": {
      "text/html": [
       "<div><div></div><div></div><div><strong>Installed Packages</strong><ul><li><span>Microsoft.SemanticKernel, 0.15.230609.2-preview</span></li><li><span>Microsoft.SemanticKernel.Skills.Web, 0.15.230609.2-preview</span></li></ul></div></div>"
      ]
     },
     "metadata": {},
     "output_type": "display_data"
    }
   ],
   "source": [
    "#r \"nuget: Microsoft.SemanticKernel, 0.15.230609.2-preview\"\n",
    "#r \"nuget: Microsoft.SemanticKernel.Skills.Web, 0.15.230609.2-preview\"\n",
    "#!import ../config/Settings.cs\n",
    "\n",
    "using Microsoft.SemanticKernel;\n",
    "using Microsoft.SemanticKernel.Skills.Web;\n",
    "using Microsoft.SemanticKernel.Skills.Web.Bing;\n",
    "using System.IO;\n",
    "using Microsoft.SemanticKernel.SemanticFunctions;\n",
    "\n",
    "\n",
    "// Grab the locally stored credentials from the settings.json file. Name the \"backend\" as \"davinci\" — assuming that you're using one of the davinci completion models. \n",
    "\n",
    "var (useAzureOpenAI, model, azureEndpoint, apiKey, orgId) = Settings.LoadFromFile();\n",
    "\n",
    "string bingAPIKEY = Settings.GetBingAPIKey();\n",
    "\n",
    "\n",
    "IKernel kernel = new KernelBuilder()\n",
    "    .WithOpenAITextCompletionService(\"text-davinci-002\", apiKey, serviceId: \"text-davinci-002\")\n",
    "    .WithOpenAITextCompletionService(\"text-davinci-003\", apiKey)\n",
    "    .Build();"
   ]
  },
  {
   "cell_type": "code",
   "execution_count": 5,
   "metadata": {
    "dotnet_interactive": {
     "language": "csharp"
    },
    "polyglot_notebook": {
     "kernelName": "csharp"
    }
   },
   "outputs": [],
   "source": [
    "var bingConnector = new BingConnector(bingAPIKEY);\n",
    "var bing = new WebSearchEngineSkill(bingConnector);\n",
    "var search = kernel.ImportSkill(bing, \"bing\");\n",
    "\n",
    "// load semantic skill\n",
    "var skillsDirectory = Path.Combine(System.IO.Directory.GetCurrentDirectory(), \"skills\");\n",
    "var summarySkills = kernel.ImportSemanticSkillFromDirectory(skillsDirectory,\"SummarizeSkill\");"
   ]
  },
  {
   "cell_type": "code",
   "execution_count": 6,
   "metadata": {
    "dotnet_interactive": {
     "language": "csharp"
    },
    "polyglot_notebook": {
     "kernelName": "csharp"
    }
   },
   "outputs": [
    {
     "name": "stdout",
     "output_type": "stream",
     "text": [
      "What's the tallest building in South America?\n",
      "\n",
      "Bing Answer: Some of the most notable include Catalinas Norte and Puerto Madero (Buenos Aires); along the Centro Empresarial Nações Unidas and the Central Zone of São Paulo (São Paulo); Sanhattan (Santiago); and Parque Central Complex (Caracas). Tallest buildings [ edit] Was South America's tallest building upon completion See also [ edit]\n",
      "\n",
      "Summary: \n",
      "In South America, some of the most notable tall buildings are located in Buenos Aires, São Paulo, Santiago, and Caracas. The tallest building upon completion was the Parque Central Complex in Caracas.\n",
      "\n",
      "Notes: Tallest Buildings in South America\n",
      "- Catalinas Norte & Puerto Madero (Buenos Aires)\n",
      "- Centro Empresarial Nações Unidas & Central Zone (São Paulo)\n",
      "- Sanhattan (Santiago)\n",
      "- Parque Central Complex (Caracas)\n",
      "- South America's tallest building upon completion\n",
      "\n"
     ]
    }
   ],
   "source": [
    "var ask = \"What's the tallest building in South America?\";\n",
    "\n",
    "//combine skills and run sequence\n",
    "var result1 = await kernel.RunAsync(\n",
    "    ask,\n",
    "    search[\"Search\"]\n",
    ");\n",
    "\n",
    "var result2 = await kernel.RunAsync(\n",
    "    ask,\n",
    "    search[\"Search\"],\n",
    "    summarySkills[\"Summarize\"]\n",
    ");\n",
    "\n",
    "var result3 = await kernel.RunAsync(\n",
    "    ask,\n",
    "    search[\"Search\"],\n",
    "    summarySkills[\"Notegen\"]\n",
    ");\n",
    "\n",
    "\n",
    "Console.WriteLine(ask + \"\\n\");\n",
    "Console.WriteLine(\"Bing Answer: \" + result1 + \"\\n\");\n",
    "Console.WriteLine(\"Summary: \" + result2 + \"\\n\");\n",
    "Console.WriteLine(\"Notes: \" + result3 + \"\\n\");"
   ]
  }
 ],
 "metadata": {
  "kernelspec": {
   "display_name": ".NET (C#)",
   "language": "C#",
   "name": ".net-csharp"
  },
  "language_info": {
   "name": "polyglot-notebook"
  },
  "polyglot_notebook": {
   "kernelInfo": {
    "defaultKernelName": "csharp",
    "items": [
     {
      "aliases": [],
      "languageName": "csharp",
      "name": "csharp"
     }
    ]
   }
  }
 },
 "nbformat": 4,
 "nbformat_minor": 2
}
